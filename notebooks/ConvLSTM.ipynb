{
 "cells": [
  {
   "cell_type": "code",
   "execution_count": null,
   "metadata": {
    "id": "KJkKG59Mt3Ow"
   },
   "outputs": [],
   "source": [
    "import os\n",
    "import re\n",
    "import warnings\n",
    "import pandas as pd\n",
    "import numpy as np\n",
    "import matplotlib.pyplot as plt\n",
    "import seaborn as sns\n",
    "import cv2\n",
    "from PIL import Image\n",
    "from tqdm import tqdm\n",
    "from sklearn.model_selection import train_test_split\n",
    "import torch\n",
    "import torch.nn as nn\n",
    "from torch.utils.data import (\n",
    "    DataLoader,\n",
    "    Dataset\n",
    ")\n",
    "from torch.optim import Adam\n",
    "from torch.optim.lr_scheduler import ReduceLROnPlateau\n",
    "from src.lstm import ConvLSTMNet\n",
    "from skimage.metrics import structural_similarity as ssim"
   ]
  },
  {
   "cell_type": "code",
   "execution_count": null,
   "metadata": {
    "id": "XqN6R20bs1I2"
   },
   "outputs": [],
   "source": [
    "def extract_frames(\n",
    "    video_path: str,\n",
    "    output_folder: str,\n",
    "    frame_rate: int=1,\n",
    "    skip_frames: bool=False\n",
    "    ) -> list:\n",
    "        \"\"\"\n",
    "            Extracts frames from a video file and saves them as images.\n",
    "\n",
    "            This function reads a video from `video_path`, extracts frames at the specified `frame_rate`, and saves them to `output_folder`.\n",
    "            It can optionally skip frames based on the `skip_frames` flag.\n",
    "\n",
    "            Arguments:\n",
    "                video_path (str): Path to the input video file.\n",
    "                output_folder (str): Directory where the extracted frames will be saved.\n",
    "                frame_rate (int, optional): Number of frames to extract per second. Defaults to 1.\n",
    "                skip_frames (bool, optional): If True, skips frames based on the frame rate. Defaults to False.\n",
    "\n",
    "            Returns:\n",
    "                list: A list of filenames for the extracted frames.\n",
    "        \"\"\"    \n",
    "        if not os.path.exists(output_folder):\n",
    "            os.makedirs(name=output_folder)\n",
    "        cap=cv2.VideoCapture(filename=video_path)\n",
    "        fps=int(cap.get(propId=cv2.CAP_PROP_FPS))\n",
    "        frame_names=[]\n",
    "        frame_count=0\n",
    "        while cap.isOpened():\n",
    "            ret, frame=cap.read()\n",
    "            if not ret:\n",
    "                break\n",
    "            if skip_frames:\n",
    "                if frame_count%(fps//frame_rate)==0:\n",
    "                    video_name=re.search(\n",
    "                        pattern=\"v_[^\\\\/]+(?=\\\\.)\",\n",
    "                        string=video_path\n",
    "                    ).group(0)\n",
    "                    frame_name=f\"{video_name}_frame_{frame_count}.jpg\"\n",
    "                    frame_path=os.path.join(output_folder, frame_name)\n",
    "                    cv2.imwrite(\n",
    "                        filename=frame_path,\n",
    "                        img=frame\n",
    "                    )\n",
    "                    frame_names.append(frame_name)\n",
    "                    frame_count+=1\n",
    "            else:\n",
    "                video_name=re.search(\n",
    "                    pattern=\"v_[^\\\\/]+(?=\\\\.)\",\n",
    "                    string=video_path\n",
    "                ).group(0)\n",
    "                frame_name=f\"{video_name}_frame_{frame_count}.jpg\"\n",
    "                frame_path=os.path.join(output_folder, frame_name)\n",
    "                cv2.imwrite(\n",
    "                    filename=frame_path,\n",
    "                    img=frame\n",
    "                )\n",
    "                frame_names.append(frame_name)\n",
    "                frame_count+=1\n",
    "        cap.release()\n",
    "        return frame_names"
   ]
  },
  {
   "cell_type": "code",
   "execution_count": null,
   "metadata": {
    "id": "8fy9G7Djv1VH"
   },
   "outputs": [],
   "source": [
    "def preprocess_frame(\n",
    "    image_path: str,\n",
    "    target_size: tuple=(64, 64)\n",
    ") -> np.ndarray:\n",
    "    \"\"\"\n",
    "    Preprocesses an image by resizing and normalizing it.\n",
    "\n",
    "    This function opens an image from `image_path`, resizes it to `target_size`, and normalizes the pixel values to the range [0, 1].\n",
    "\n",
    "    Arguments:\n",
    "        image_path (str): Path to the input image file.\n",
    "        target_size (tuple, optional): Desired size for the output image as (width, height). Defaults to (64, 64).\n",
    "\n",
    "    Returns:\n",
    "        np.ndarray: The preprocessed image as a NumPy array with normalized pixel values.\n",
    "    \"\"\"\n",
    "    image=Image.open(fp=image_path).resize(size=target_size)\n",
    "    image_array=np.array(object=image)/255.0\n",
    "    return image_array"
   ]
  },
  {
   "cell_type": "code",
   "execution_count": 5,
   "metadata": {
    "colab": {
     "base_uri": "https://localhost:8080/",
     "height": 442
    },
    "id": "TYOMZaF3v3ph",
    "outputId": "4e0b5d60-f7d9-495a-b1a2-fa53f81f219a"
   },
   "outputs": [
    {
     "name": "stderr",
     "output_type": "stream",
     "text": [
      "Extracting Frames: 100%|██████████| 459/459 [02:48<00:00,  2.73video/s]\n"
     ]
    },
    {
     "data": {
      "application/vnd.google.colaboratory.intrinsic+json": {
       "type": "dataframe",
       "variable_name": "dataframe"
      },
      "text/html": [
       "\n",
       "  <div id=\"df-a85ca9c9-590f-40b0-833e-e321c55a94af\" class=\"colab-df-container\">\n",
       "    <div>\n",
       "<style scoped>\n",
       "    .dataframe tbody tr th:only-of-type {\n",
       "        vertical-align: middle;\n",
       "    }\n",
       "\n",
       "    .dataframe tbody tr th {\n",
       "        vertical-align: top;\n",
       "    }\n",
       "\n",
       "    .dataframe thead th {\n",
       "        text-align: right;\n",
       "    }\n",
       "</style>\n",
       "<table border=\"1\" class=\"dataframe\">\n",
       "  <thead>\n",
       "    <tr style=\"text-align: right;\">\n",
       "      <th></th>\n",
       "      <th>video_file</th>\n",
       "      <th>frame_file</th>\n",
       "      <th>label</th>\n",
       "    </tr>\n",
       "  </thead>\n",
       "  <tbody>\n",
       "    <tr>\n",
       "      <th>0</th>\n",
       "      <td>v_BreastStroke_g07_c03.avi</td>\n",
       "      <td>v_BreastStroke_g07_c03_frame_0.jpg</td>\n",
       "      <td>BreastStroke</td>\n",
       "    </tr>\n",
       "    <tr>\n",
       "      <th>1</th>\n",
       "      <td>v_BreastStroke_g07_c03.avi</td>\n",
       "      <td>v_BreastStroke_g07_c03_frame_1.jpg</td>\n",
       "      <td>BreastStroke</td>\n",
       "    </tr>\n",
       "    <tr>\n",
       "      <th>2</th>\n",
       "      <td>v_BreastStroke_g07_c03.avi</td>\n",
       "      <td>v_BreastStroke_g07_c03_frame_2.jpg</td>\n",
       "      <td>BreastStroke</td>\n",
       "    </tr>\n",
       "    <tr>\n",
       "      <th>3</th>\n",
       "      <td>v_BreastStroke_g07_c03.avi</td>\n",
       "      <td>v_BreastStroke_g07_c03_frame_3.jpg</td>\n",
       "      <td>BreastStroke</td>\n",
       "    </tr>\n",
       "    <tr>\n",
       "      <th>4</th>\n",
       "      <td>v_BreastStroke_g07_c03.avi</td>\n",
       "      <td>v_BreastStroke_g07_c03_frame_4.jpg</td>\n",
       "      <td>BreastStroke</td>\n",
       "    </tr>\n",
       "    <tr>\n",
       "      <th>...</th>\n",
       "      <td>...</td>\n",
       "      <td>...</td>\n",
       "      <td>...</td>\n",
       "    </tr>\n",
       "    <tr>\n",
       "      <th>102098</th>\n",
       "      <td>v_Surfing_g08_c01.avi</td>\n",
       "      <td>v_Surfing_g08_c01_frame_187.jpg</td>\n",
       "      <td>Surfing</td>\n",
       "    </tr>\n",
       "    <tr>\n",
       "      <th>102099</th>\n",
       "      <td>v_Surfing_g08_c01.avi</td>\n",
       "      <td>v_Surfing_g08_c01_frame_188.jpg</td>\n",
       "      <td>Surfing</td>\n",
       "    </tr>\n",
       "    <tr>\n",
       "      <th>102100</th>\n",
       "      <td>v_Surfing_g08_c01.avi</td>\n",
       "      <td>v_Surfing_g08_c01_frame_189.jpg</td>\n",
       "      <td>Surfing</td>\n",
       "    </tr>\n",
       "    <tr>\n",
       "      <th>102101</th>\n",
       "      <td>v_Surfing_g08_c01.avi</td>\n",
       "      <td>v_Surfing_g08_c01_frame_190.jpg</td>\n",
       "      <td>Surfing</td>\n",
       "    </tr>\n",
       "    <tr>\n",
       "      <th>102102</th>\n",
       "      <td>v_Surfing_g08_c01.avi</td>\n",
       "      <td>v_Surfing_g08_c01_frame_191.jpg</td>\n",
       "      <td>Surfing</td>\n",
       "    </tr>\n",
       "  </tbody>\n",
       "</table>\n",
       "<p>102103 rows × 3 columns</p>\n",
       "</div>\n",
       "    <div class=\"colab-df-buttons\">\n",
       "\n",
       "  <div class=\"colab-df-container\">\n",
       "    <button class=\"colab-df-convert\" onclick=\"convertToInteractive('df-a85ca9c9-590f-40b0-833e-e321c55a94af')\"\n",
       "            title=\"Convert this dataframe to an interactive table.\"\n",
       "            style=\"display:none;\">\n",
       "\n",
       "  <svg xmlns=\"http://www.w3.org/2000/svg\" height=\"24px\" viewBox=\"0 -960 960 960\">\n",
       "    <path d=\"M120-120v-720h720v720H120Zm60-500h600v-160H180v160Zm220 220h160v-160H400v160Zm0 220h160v-160H400v160ZM180-400h160v-160H180v160Zm440 0h160v-160H620v160ZM180-180h160v-160H180v160Zm440 0h160v-160H620v160Z\"/>\n",
       "  </svg>\n",
       "    </button>\n",
       "\n",
       "  <style>\n",
       "    .colab-df-container {\n",
       "      display:flex;\n",
       "      gap: 12px;\n",
       "    }\n",
       "\n",
       "    .colab-df-convert {\n",
       "      background-color: #E8F0FE;\n",
       "      border: none;\n",
       "      border-radius: 50%;\n",
       "      cursor: pointer;\n",
       "      display: none;\n",
       "      fill: #1967D2;\n",
       "      height: 32px;\n",
       "      padding: 0 0 0 0;\n",
       "      width: 32px;\n",
       "    }\n",
       "\n",
       "    .colab-df-convert:hover {\n",
       "      background-color: #E2EBFA;\n",
       "      box-shadow: 0px 1px 2px rgba(60, 64, 67, 0.3), 0px 1px 3px 1px rgba(60, 64, 67, 0.15);\n",
       "      fill: #174EA6;\n",
       "    }\n",
       "\n",
       "    .colab-df-buttons div {\n",
       "      margin-bottom: 4px;\n",
       "    }\n",
       "\n",
       "    [theme=dark] .colab-df-convert {\n",
       "      background-color: #3B4455;\n",
       "      fill: #D2E3FC;\n",
       "    }\n",
       "\n",
       "    [theme=dark] .colab-df-convert:hover {\n",
       "      background-color: #434B5C;\n",
       "      box-shadow: 0px 1px 3px 1px rgba(0, 0, 0, 0.15);\n",
       "      filter: drop-shadow(0px 1px 2px rgba(0, 0, 0, 0.3));\n",
       "      fill: #FFFFFF;\n",
       "    }\n",
       "  </style>\n",
       "\n",
       "    <script>\n",
       "      const buttonEl =\n",
       "        document.querySelector('#df-a85ca9c9-590f-40b0-833e-e321c55a94af button.colab-df-convert');\n",
       "      buttonEl.style.display =\n",
       "        google.colab.kernel.accessAllowed ? 'block' : 'none';\n",
       "\n",
       "      async function convertToInteractive(key) {\n",
       "        const element = document.querySelector('#df-a85ca9c9-590f-40b0-833e-e321c55a94af');\n",
       "        const dataTable =\n",
       "          await google.colab.kernel.invokeFunction('convertToInteractive',\n",
       "                                                    [key], {});\n",
       "        if (!dataTable) return;\n",
       "\n",
       "        const docLinkHtml = 'Like what you see? Visit the ' +\n",
       "          '<a target=\"_blank\" href=https://colab.research.google.com/notebooks/data_table.ipynb>data table notebook</a>'\n",
       "          + ' to learn more about interactive tables.';\n",
       "        element.innerHTML = '';\n",
       "        dataTable['output_type'] = 'display_data';\n",
       "        await google.colab.output.renderOutput(dataTable, element);\n",
       "        const docLink = document.createElement('div');\n",
       "        docLink.innerHTML = docLinkHtml;\n",
       "        element.appendChild(docLink);\n",
       "      }\n",
       "    </script>\n",
       "  </div>\n",
       "\n",
       "\n",
       "<div id=\"df-c640b419-4a7d-4736-ada8-41cf8cc64034\">\n",
       "  <button class=\"colab-df-quickchart\" onclick=\"quickchart('df-c640b419-4a7d-4736-ada8-41cf8cc64034')\"\n",
       "            title=\"Suggest charts\"\n",
       "            style=\"display:none;\">\n",
       "\n",
       "<svg xmlns=\"http://www.w3.org/2000/svg\" height=\"24px\"viewBox=\"0 0 24 24\"\n",
       "     width=\"24px\">\n",
       "    <g>\n",
       "        <path d=\"M19 3H5c-1.1 0-2 .9-2 2v14c0 1.1.9 2 2 2h14c1.1 0 2-.9 2-2V5c0-1.1-.9-2-2-2zM9 17H7v-7h2v7zm4 0h-2V7h2v10zm4 0h-2v-4h2v4z\"/>\n",
       "    </g>\n",
       "</svg>\n",
       "  </button>\n",
       "\n",
       "<style>\n",
       "  .colab-df-quickchart {\n",
       "      --bg-color: #E8F0FE;\n",
       "      --fill-color: #1967D2;\n",
       "      --hover-bg-color: #E2EBFA;\n",
       "      --hover-fill-color: #174EA6;\n",
       "      --disabled-fill-color: #AAA;\n",
       "      --disabled-bg-color: #DDD;\n",
       "  }\n",
       "\n",
       "  [theme=dark] .colab-df-quickchart {\n",
       "      --bg-color: #3B4455;\n",
       "      --fill-color: #D2E3FC;\n",
       "      --hover-bg-color: #434B5C;\n",
       "      --hover-fill-color: #FFFFFF;\n",
       "      --disabled-bg-color: #3B4455;\n",
       "      --disabled-fill-color: #666;\n",
       "  }\n",
       "\n",
       "  .colab-df-quickchart {\n",
       "    background-color: var(--bg-color);\n",
       "    border: none;\n",
       "    border-radius: 50%;\n",
       "    cursor: pointer;\n",
       "    display: none;\n",
       "    fill: var(--fill-color);\n",
       "    height: 32px;\n",
       "    padding: 0;\n",
       "    width: 32px;\n",
       "  }\n",
       "\n",
       "  .colab-df-quickchart:hover {\n",
       "    background-color: var(--hover-bg-color);\n",
       "    box-shadow: 0 1px 2px rgba(60, 64, 67, 0.3), 0 1px 3px 1px rgba(60, 64, 67, 0.15);\n",
       "    fill: var(--button-hover-fill-color);\n",
       "  }\n",
       "\n",
       "  .colab-df-quickchart-complete:disabled,\n",
       "  .colab-df-quickchart-complete:disabled:hover {\n",
       "    background-color: var(--disabled-bg-color);\n",
       "    fill: var(--disabled-fill-color);\n",
       "    box-shadow: none;\n",
       "  }\n",
       "\n",
       "  .colab-df-spinner {\n",
       "    border: 2px solid var(--fill-color);\n",
       "    border-color: transparent;\n",
       "    border-bottom-color: var(--fill-color);\n",
       "    animation:\n",
       "      spin 1s steps(1) infinite;\n",
       "  }\n",
       "\n",
       "  @keyframes spin {\n",
       "    0% {\n",
       "      border-color: transparent;\n",
       "      border-bottom-color: var(--fill-color);\n",
       "      border-left-color: var(--fill-color);\n",
       "    }\n",
       "    20% {\n",
       "      border-color: transparent;\n",
       "      border-left-color: var(--fill-color);\n",
       "      border-top-color: var(--fill-color);\n",
       "    }\n",
       "    30% {\n",
       "      border-color: transparent;\n",
       "      border-left-color: var(--fill-color);\n",
       "      border-top-color: var(--fill-color);\n",
       "      border-right-color: var(--fill-color);\n",
       "    }\n",
       "    40% {\n",
       "      border-color: transparent;\n",
       "      border-right-color: var(--fill-color);\n",
       "      border-top-color: var(--fill-color);\n",
       "    }\n",
       "    60% {\n",
       "      border-color: transparent;\n",
       "      border-right-color: var(--fill-color);\n",
       "    }\n",
       "    80% {\n",
       "      border-color: transparent;\n",
       "      border-right-color: var(--fill-color);\n",
       "      border-bottom-color: var(--fill-color);\n",
       "    }\n",
       "    90% {\n",
       "      border-color: transparent;\n",
       "      border-bottom-color: var(--fill-color);\n",
       "    }\n",
       "  }\n",
       "</style>\n",
       "\n",
       "  <script>\n",
       "    async function quickchart(key) {\n",
       "      const quickchartButtonEl =\n",
       "        document.querySelector('#' + key + ' button');\n",
       "      quickchartButtonEl.disabled = true;  // To prevent multiple clicks.\n",
       "      quickchartButtonEl.classList.add('colab-df-spinner');\n",
       "      try {\n",
       "        const charts = await google.colab.kernel.invokeFunction(\n",
       "            'suggestCharts', [key], {});\n",
       "      } catch (error) {\n",
       "        console.error('Error during call to suggestCharts:', error);\n",
       "      }\n",
       "      quickchartButtonEl.classList.remove('colab-df-spinner');\n",
       "      quickchartButtonEl.classList.add('colab-df-quickchart-complete');\n",
       "    }\n",
       "    (() => {\n",
       "      let quickchartButtonEl =\n",
       "        document.querySelector('#df-c640b419-4a7d-4736-ada8-41cf8cc64034 button');\n",
       "      quickchartButtonEl.style.display =\n",
       "        google.colab.kernel.accessAllowed ? 'block' : 'none';\n",
       "    })();\n",
       "  </script>\n",
       "</div>\n",
       "\n",
       "  <div id=\"id_f6c43730-23fe-4b32-b91b-b0a5229e148c\">\n",
       "    <style>\n",
       "      .colab-df-generate {\n",
       "        background-color: #E8F0FE;\n",
       "        border: none;\n",
       "        border-radius: 50%;\n",
       "        cursor: pointer;\n",
       "        display: none;\n",
       "        fill: #1967D2;\n",
       "        height: 32px;\n",
       "        padding: 0 0 0 0;\n",
       "        width: 32px;\n",
       "      }\n",
       "\n",
       "      .colab-df-generate:hover {\n",
       "        background-color: #E2EBFA;\n",
       "        box-shadow: 0px 1px 2px rgba(60, 64, 67, 0.3), 0px 1px 3px 1px rgba(60, 64, 67, 0.15);\n",
       "        fill: #174EA6;\n",
       "      }\n",
       "\n",
       "      [theme=dark] .colab-df-generate {\n",
       "        background-color: #3B4455;\n",
       "        fill: #D2E3FC;\n",
       "      }\n",
       "\n",
       "      [theme=dark] .colab-df-generate:hover {\n",
       "        background-color: #434B5C;\n",
       "        box-shadow: 0px 1px 3px 1px rgba(0, 0, 0, 0.15);\n",
       "        filter: drop-shadow(0px 1px 2px rgba(0, 0, 0, 0.3));\n",
       "        fill: #FFFFFF;\n",
       "      }\n",
       "    </style>\n",
       "    <button class=\"colab-df-generate\" onclick=\"generateWithVariable('dataframe')\"\n",
       "            title=\"Generate code using this dataframe.\"\n",
       "            style=\"display:none;\">\n",
       "\n",
       "  <svg xmlns=\"http://www.w3.org/2000/svg\" height=\"24px\"viewBox=\"0 0 24 24\"\n",
       "       width=\"24px\">\n",
       "    <path d=\"M7,19H8.4L18.45,9,17,7.55,7,17.6ZM5,21V16.75L18.45,3.32a2,2,0,0,1,2.83,0l1.4,1.43a1.91,1.91,0,0,1,.58,1.4,1.91,1.91,0,0,1-.58,1.4L9.25,21ZM18.45,9,17,7.55Zm-12,3A5.31,5.31,0,0,0,4.9,8.1,5.31,5.31,0,0,0,1,6.5,5.31,5.31,0,0,0,4.9,4.9,5.31,5.31,0,0,0,6.5,1,5.31,5.31,0,0,0,8.1,4.9,5.31,5.31,0,0,0,12,6.5,5.46,5.46,0,0,0,6.5,12Z\"/>\n",
       "  </svg>\n",
       "    </button>\n",
       "    <script>\n",
       "      (() => {\n",
       "      const buttonEl =\n",
       "        document.querySelector('#id_f6c43730-23fe-4b32-b91b-b0a5229e148c button.colab-df-generate');\n",
       "      buttonEl.style.display =\n",
       "        google.colab.kernel.accessAllowed ? 'block' : 'none';\n",
       "\n",
       "      buttonEl.onclick = () => {\n",
       "        google.colab.notebook.generateWithVariable('dataframe');\n",
       "      }\n",
       "      })();\n",
       "    </script>\n",
       "  </div>\n",
       "\n",
       "    </div>\n",
       "  </div>\n"
      ],
      "text/plain": [
       "                        video_file                          frame_file  \\\n",
       "0       v_BreastStroke_g07_c03.avi  v_BreastStroke_g07_c03_frame_0.jpg   \n",
       "1       v_BreastStroke_g07_c03.avi  v_BreastStroke_g07_c03_frame_1.jpg   \n",
       "2       v_BreastStroke_g07_c03.avi  v_BreastStroke_g07_c03_frame_2.jpg   \n",
       "3       v_BreastStroke_g07_c03.avi  v_BreastStroke_g07_c03_frame_3.jpg   \n",
       "4       v_BreastStroke_g07_c03.avi  v_BreastStroke_g07_c03_frame_4.jpg   \n",
       "...                            ...                                 ...   \n",
       "102098       v_Surfing_g08_c01.avi     v_Surfing_g08_c01_frame_187.jpg   \n",
       "102099       v_Surfing_g08_c01.avi     v_Surfing_g08_c01_frame_188.jpg   \n",
       "102100       v_Surfing_g08_c01.avi     v_Surfing_g08_c01_frame_189.jpg   \n",
       "102101       v_Surfing_g08_c01.avi     v_Surfing_g08_c01_frame_190.jpg   \n",
       "102102       v_Surfing_g08_c01.avi     v_Surfing_g08_c01_frame_191.jpg   \n",
       "\n",
       "               label  \n",
       "0       BreastStroke  \n",
       "1       BreastStroke  \n",
       "2       BreastStroke  \n",
       "3       BreastStroke  \n",
       "4       BreastStroke  \n",
       "...              ...  \n",
       "102098       Surfing  \n",
       "102099       Surfing  \n",
       "102100       Surfing  \n",
       "102101       Surfing  \n",
       "102102       Surfing  \n",
       "\n",
       "[102103 rows x 3 columns]"
      ]
     },
     "execution_count": 5,
     "metadata": {},
     "output_type": "execute_result"
    }
   ],
   "source": [
    "input_folders=[r\"app/data/videos/BreastStroke\", r\"app/data/videos/Kayaking\", r\"app/data/videos/Rafting\", r\"app/data/videos/Rowing\", r\"app/data/videos/Surfing\"]\n",
    "frame_folder=r\"app/data/frames\"\n",
    "video_files=[]\n",
    "for input_folder in input_folders:\n",
    "    video_files.extend(\n",
    "        os.listdir(input_folder)\n",
    "    )\n",
    "video_paths=[]\n",
    "for input_folder in input_folders:\n",
    "    video_files=os.listdir(input_folder)\n",
    "    video_paths.extend([\n",
    "        os.path.join(input_folder, video_file)\n",
    "        for video_file in video_files\n",
    "    ])\n",
    "dataframe=pd.DataFrame(columns=[\"video_file\", \"frame_file\"])\n",
    "for video_path in tqdm(\n",
    "    iterable=video_paths,\n",
    "    desc=\"Extracting Frames\",\n",
    "    unit=\"video\"\n",
    "):\n",
    "    video_file=os.path.basename(p=video_path)\n",
    "    frame_paths=extract_frames(\n",
    "        video_path=video_path,\n",
    "        output_folder=frame_folder\n",
    "    )\n",
    "    for frame_path in frame_paths:\n",
    "        dataframe=pd.concat(\n",
    "            objs=[dataframe, pd.DataFrame(\n",
    "                    data=[[video_file, frame_path]],\n",
    "                    columns=[\"video_file\", \"frame_file\"]\n",
    "                )\n",
    "            ],\n",
    "            ignore_index=True\n",
    "        )\n",
    "dataframe[\"label\"]=dataframe[\"video_file\"].apply(lambda x: x.split(\"_\")[1])\n",
    "dataframe"
   ]
  },
  {
   "cell_type": "code",
   "execution_count": 6,
   "metadata": {
    "colab": {
     "base_uri": "https://localhost:8080/",
     "height": 480
    },
    "id": "3lck2NnJxCzv",
    "outputId": "ceb26158-be4c-470e-f6da-6713f9d6f5a0"
   },
   "outputs": [
    {
     "name": "stderr",
     "output_type": "stream",
     "text": [
      "<ipython-input-6-5c6b06ff0b8b>:4: DeprecationWarning: DataFrameGroupBy.apply operated on the grouping columns. This behavior is deprecated, and in a future version of pandas the grouping columns will be excluded from the operation. Either pass `include_groups=False` to exclude the groupings or explicitly select the grouping columns after groupby to silence this warning.\n",
      "  ).apply(lambda x: x[x[\"video_file\"].isin(x[\"video_file\"].unique()[:50])]).reset_index(drop=True)\n"
     ]
    },
    {
     "data": {
      "application/vnd.google.colaboratory.intrinsic+json": {
       "summary": "{\n  \"name\": \"sample_dataframe\",\n  \"rows\": 53738,\n  \"fields\": [\n    {\n      \"column\": \"video_file\",\n      \"properties\": {\n        \"dtype\": \"category\",\n        \"num_unique_values\": 250,\n        \"samples\": [\n          \"v_Rafting_g21_c02.avi\",\n          \"v_BreastStroke_g25_c04.avi\",\n          \"v_Kayaking_g20_c01.avi\"\n        ],\n        \"semantic_type\": \"\",\n        \"description\": \"\"\n      }\n    },\n    {\n      \"column\": \"frame_file\",\n      \"properties\": {\n        \"dtype\": \"string\",\n        \"num_unique_values\": 53738,\n        \"samples\": [\n          \"v_Kayaking_g21_c07_frame_94.jpg\",\n          \"v_Surfing_g01_c06_frame_4.jpg\",\n          \"v_Rowing_g09_c05_frame_68.jpg\"\n        ],\n        \"semantic_type\": \"\",\n        \"description\": \"\"\n      }\n    },\n    {\n      \"column\": \"label\",\n      \"properties\": {\n        \"dtype\": \"category\",\n        \"num_unique_values\": 5,\n        \"samples\": [\n          \"Kayaking\",\n          \"Surfing\",\n          \"Rafting\"\n        ],\n        \"semantic_type\": \"\",\n        \"description\": \"\"\n      }\n    }\n  ]\n}",
       "type": "dataframe",
       "variable_name": "sample_dataframe"
      },
      "text/html": [
       "\n",
       "  <div id=\"df-a2e36729-2660-48b0-a80f-5c36dfbf56b2\" class=\"colab-df-container\">\n",
       "    <div>\n",
       "<style scoped>\n",
       "    .dataframe tbody tr th:only-of-type {\n",
       "        vertical-align: middle;\n",
       "    }\n",
       "\n",
       "    .dataframe tbody tr th {\n",
       "        vertical-align: top;\n",
       "    }\n",
       "\n",
       "    .dataframe thead th {\n",
       "        text-align: right;\n",
       "    }\n",
       "</style>\n",
       "<table border=\"1\" class=\"dataframe\">\n",
       "  <thead>\n",
       "    <tr style=\"text-align: right;\">\n",
       "      <th></th>\n",
       "      <th>video_file</th>\n",
       "      <th>frame_file</th>\n",
       "      <th>label</th>\n",
       "    </tr>\n",
       "  </thead>\n",
       "  <tbody>\n",
       "    <tr>\n",
       "      <th>0</th>\n",
       "      <td>v_BreastStroke_g07_c03.avi</td>\n",
       "      <td>v_BreastStroke_g07_c03_frame_0.jpg</td>\n",
       "      <td>BreastStroke</td>\n",
       "    </tr>\n",
       "    <tr>\n",
       "      <th>1</th>\n",
       "      <td>v_BreastStroke_g07_c03.avi</td>\n",
       "      <td>v_BreastStroke_g07_c03_frame_1.jpg</td>\n",
       "      <td>BreastStroke</td>\n",
       "    </tr>\n",
       "    <tr>\n",
       "      <th>2</th>\n",
       "      <td>v_BreastStroke_g07_c03.avi</td>\n",
       "      <td>v_BreastStroke_g07_c03_frame_2.jpg</td>\n",
       "      <td>BreastStroke</td>\n",
       "    </tr>\n",
       "    <tr>\n",
       "      <th>3</th>\n",
       "      <td>v_BreastStroke_g07_c03.avi</td>\n",
       "      <td>v_BreastStroke_g07_c03_frame_3.jpg</td>\n",
       "      <td>BreastStroke</td>\n",
       "    </tr>\n",
       "    <tr>\n",
       "      <th>4</th>\n",
       "      <td>v_BreastStroke_g07_c03.avi</td>\n",
       "      <td>v_BreastStroke_g07_c03_frame_4.jpg</td>\n",
       "      <td>BreastStroke</td>\n",
       "    </tr>\n",
       "    <tr>\n",
       "      <th>...</th>\n",
       "      <td>...</td>\n",
       "      <td>...</td>\n",
       "      <td>...</td>\n",
       "    </tr>\n",
       "    <tr>\n",
       "      <th>53733</th>\n",
       "      <td>v_Surfing_g11_c03.avi</td>\n",
       "      <td>v_Surfing_g11_c03_frame_145.jpg</td>\n",
       "      <td>Surfing</td>\n",
       "    </tr>\n",
       "    <tr>\n",
       "      <th>53734</th>\n",
       "      <td>v_Surfing_g11_c03.avi</td>\n",
       "      <td>v_Surfing_g11_c03_frame_146.jpg</td>\n",
       "      <td>Surfing</td>\n",
       "    </tr>\n",
       "    <tr>\n",
       "      <th>53735</th>\n",
       "      <td>v_Surfing_g11_c03.avi</td>\n",
       "      <td>v_Surfing_g11_c03_frame_147.jpg</td>\n",
       "      <td>Surfing</td>\n",
       "    </tr>\n",
       "    <tr>\n",
       "      <th>53736</th>\n",
       "      <td>v_Surfing_g11_c03.avi</td>\n",
       "      <td>v_Surfing_g11_c03_frame_148.jpg</td>\n",
       "      <td>Surfing</td>\n",
       "    </tr>\n",
       "    <tr>\n",
       "      <th>53737</th>\n",
       "      <td>v_Surfing_g11_c03.avi</td>\n",
       "      <td>v_Surfing_g11_c03_frame_149.jpg</td>\n",
       "      <td>Surfing</td>\n",
       "    </tr>\n",
       "  </tbody>\n",
       "</table>\n",
       "<p>53738 rows × 3 columns</p>\n",
       "</div>\n",
       "    <div class=\"colab-df-buttons\">\n",
       "\n",
       "  <div class=\"colab-df-container\">\n",
       "    <button class=\"colab-df-convert\" onclick=\"convertToInteractive('df-a2e36729-2660-48b0-a80f-5c36dfbf56b2')\"\n",
       "            title=\"Convert this dataframe to an interactive table.\"\n",
       "            style=\"display:none;\">\n",
       "\n",
       "  <svg xmlns=\"http://www.w3.org/2000/svg\" height=\"24px\" viewBox=\"0 -960 960 960\">\n",
       "    <path d=\"M120-120v-720h720v720H120Zm60-500h600v-160H180v160Zm220 220h160v-160H400v160Zm0 220h160v-160H400v160ZM180-400h160v-160H180v160Zm440 0h160v-160H620v160ZM180-180h160v-160H180v160Zm440 0h160v-160H620v160Z\"/>\n",
       "  </svg>\n",
       "    </button>\n",
       "\n",
       "  <style>\n",
       "    .colab-df-container {\n",
       "      display:flex;\n",
       "      gap: 12px;\n",
       "    }\n",
       "\n",
       "    .colab-df-convert {\n",
       "      background-color: #E8F0FE;\n",
       "      border: none;\n",
       "      border-radius: 50%;\n",
       "      cursor: pointer;\n",
       "      display: none;\n",
       "      fill: #1967D2;\n",
       "      height: 32px;\n",
       "      padding: 0 0 0 0;\n",
       "      width: 32px;\n",
       "    }\n",
       "\n",
       "    .colab-df-convert:hover {\n",
       "      background-color: #E2EBFA;\n",
       "      box-shadow: 0px 1px 2px rgba(60, 64, 67, 0.3), 0px 1px 3px 1px rgba(60, 64, 67, 0.15);\n",
       "      fill: #174EA6;\n",
       "    }\n",
       "\n",
       "    .colab-df-buttons div {\n",
       "      margin-bottom: 4px;\n",
       "    }\n",
       "\n",
       "    [theme=dark] .colab-df-convert {\n",
       "      background-color: #3B4455;\n",
       "      fill: #D2E3FC;\n",
       "    }\n",
       "\n",
       "    [theme=dark] .colab-df-convert:hover {\n",
       "      background-color: #434B5C;\n",
       "      box-shadow: 0px 1px 3px 1px rgba(0, 0, 0, 0.15);\n",
       "      filter: drop-shadow(0px 1px 2px rgba(0, 0, 0, 0.3));\n",
       "      fill: #FFFFFF;\n",
       "    }\n",
       "  </style>\n",
       "\n",
       "    <script>\n",
       "      const buttonEl =\n",
       "        document.querySelector('#df-a2e36729-2660-48b0-a80f-5c36dfbf56b2 button.colab-df-convert');\n",
       "      buttonEl.style.display =\n",
       "        google.colab.kernel.accessAllowed ? 'block' : 'none';\n",
       "\n",
       "      async function convertToInteractive(key) {\n",
       "        const element = document.querySelector('#df-a2e36729-2660-48b0-a80f-5c36dfbf56b2');\n",
       "        const dataTable =\n",
       "          await google.colab.kernel.invokeFunction('convertToInteractive',\n",
       "                                                    [key], {});\n",
       "        if (!dataTable) return;\n",
       "\n",
       "        const docLinkHtml = 'Like what you see? Visit the ' +\n",
       "          '<a target=\"_blank\" href=https://colab.research.google.com/notebooks/data_table.ipynb>data table notebook</a>'\n",
       "          + ' to learn more about interactive tables.';\n",
       "        element.innerHTML = '';\n",
       "        dataTable['output_type'] = 'display_data';\n",
       "        await google.colab.output.renderOutput(dataTable, element);\n",
       "        const docLink = document.createElement('div');\n",
       "        docLink.innerHTML = docLinkHtml;\n",
       "        element.appendChild(docLink);\n",
       "      }\n",
       "    </script>\n",
       "  </div>\n",
       "\n",
       "\n",
       "<div id=\"df-f3566415-f09b-4d57-813b-d39105f79170\">\n",
       "  <button class=\"colab-df-quickchart\" onclick=\"quickchart('df-f3566415-f09b-4d57-813b-d39105f79170')\"\n",
       "            title=\"Suggest charts\"\n",
       "            style=\"display:none;\">\n",
       "\n",
       "<svg xmlns=\"http://www.w3.org/2000/svg\" height=\"24px\"viewBox=\"0 0 24 24\"\n",
       "     width=\"24px\">\n",
       "    <g>\n",
       "        <path d=\"M19 3H5c-1.1 0-2 .9-2 2v14c0 1.1.9 2 2 2h14c1.1 0 2-.9 2-2V5c0-1.1-.9-2-2-2zM9 17H7v-7h2v7zm4 0h-2V7h2v10zm4 0h-2v-4h2v4z\"/>\n",
       "    </g>\n",
       "</svg>\n",
       "  </button>\n",
       "\n",
       "<style>\n",
       "  .colab-df-quickchart {\n",
       "      --bg-color: #E8F0FE;\n",
       "      --fill-color: #1967D2;\n",
       "      --hover-bg-color: #E2EBFA;\n",
       "      --hover-fill-color: #174EA6;\n",
       "      --disabled-fill-color: #AAA;\n",
       "      --disabled-bg-color: #DDD;\n",
       "  }\n",
       "\n",
       "  [theme=dark] .colab-df-quickchart {\n",
       "      --bg-color: #3B4455;\n",
       "      --fill-color: #D2E3FC;\n",
       "      --hover-bg-color: #434B5C;\n",
       "      --hover-fill-color: #FFFFFF;\n",
       "      --disabled-bg-color: #3B4455;\n",
       "      --disabled-fill-color: #666;\n",
       "  }\n",
       "\n",
       "  .colab-df-quickchart {\n",
       "    background-color: var(--bg-color);\n",
       "    border: none;\n",
       "    border-radius: 50%;\n",
       "    cursor: pointer;\n",
       "    display: none;\n",
       "    fill: var(--fill-color);\n",
       "    height: 32px;\n",
       "    padding: 0;\n",
       "    width: 32px;\n",
       "  }\n",
       "\n",
       "  .colab-df-quickchart:hover {\n",
       "    background-color: var(--hover-bg-color);\n",
       "    box-shadow: 0 1px 2px rgba(60, 64, 67, 0.3), 0 1px 3px 1px rgba(60, 64, 67, 0.15);\n",
       "    fill: var(--button-hover-fill-color);\n",
       "  }\n",
       "\n",
       "  .colab-df-quickchart-complete:disabled,\n",
       "  .colab-df-quickchart-complete:disabled:hover {\n",
       "    background-color: var(--disabled-bg-color);\n",
       "    fill: var(--disabled-fill-color);\n",
       "    box-shadow: none;\n",
       "  }\n",
       "\n",
       "  .colab-df-spinner {\n",
       "    border: 2px solid var(--fill-color);\n",
       "    border-color: transparent;\n",
       "    border-bottom-color: var(--fill-color);\n",
       "    animation:\n",
       "      spin 1s steps(1) infinite;\n",
       "  }\n",
       "\n",
       "  @keyframes spin {\n",
       "    0% {\n",
       "      border-color: transparent;\n",
       "      border-bottom-color: var(--fill-color);\n",
       "      border-left-color: var(--fill-color);\n",
       "    }\n",
       "    20% {\n",
       "      border-color: transparent;\n",
       "      border-left-color: var(--fill-color);\n",
       "      border-top-color: var(--fill-color);\n",
       "    }\n",
       "    30% {\n",
       "      border-color: transparent;\n",
       "      border-left-color: var(--fill-color);\n",
       "      border-top-color: var(--fill-color);\n",
       "      border-right-color: var(--fill-color);\n",
       "    }\n",
       "    40% {\n",
       "      border-color: transparent;\n",
       "      border-right-color: var(--fill-color);\n",
       "      border-top-color: var(--fill-color);\n",
       "    }\n",
       "    60% {\n",
       "      border-color: transparent;\n",
       "      border-right-color: var(--fill-color);\n",
       "    }\n",
       "    80% {\n",
       "      border-color: transparent;\n",
       "      border-right-color: var(--fill-color);\n",
       "      border-bottom-color: var(--fill-color);\n",
       "    }\n",
       "    90% {\n",
       "      border-color: transparent;\n",
       "      border-bottom-color: var(--fill-color);\n",
       "    }\n",
       "  }\n",
       "</style>\n",
       "\n",
       "  <script>\n",
       "    async function quickchart(key) {\n",
       "      const quickchartButtonEl =\n",
       "        document.querySelector('#' + key + ' button');\n",
       "      quickchartButtonEl.disabled = true;  // To prevent multiple clicks.\n",
       "      quickchartButtonEl.classList.add('colab-df-spinner');\n",
       "      try {\n",
       "        const charts = await google.colab.kernel.invokeFunction(\n",
       "            'suggestCharts', [key], {});\n",
       "      } catch (error) {\n",
       "        console.error('Error during call to suggestCharts:', error);\n",
       "      }\n",
       "      quickchartButtonEl.classList.remove('colab-df-spinner');\n",
       "      quickchartButtonEl.classList.add('colab-df-quickchart-complete');\n",
       "    }\n",
       "    (() => {\n",
       "      let quickchartButtonEl =\n",
       "        document.querySelector('#df-f3566415-f09b-4d57-813b-d39105f79170 button');\n",
       "      quickchartButtonEl.style.display =\n",
       "        google.colab.kernel.accessAllowed ? 'block' : 'none';\n",
       "    })();\n",
       "  </script>\n",
       "</div>\n",
       "\n",
       "  <div id=\"id_d943f402-c229-4755-9b77-5e20ab551e12\">\n",
       "    <style>\n",
       "      .colab-df-generate {\n",
       "        background-color: #E8F0FE;\n",
       "        border: none;\n",
       "        border-radius: 50%;\n",
       "        cursor: pointer;\n",
       "        display: none;\n",
       "        fill: #1967D2;\n",
       "        height: 32px;\n",
       "        padding: 0 0 0 0;\n",
       "        width: 32px;\n",
       "      }\n",
       "\n",
       "      .colab-df-generate:hover {\n",
       "        background-color: #E2EBFA;\n",
       "        box-shadow: 0px 1px 2px rgba(60, 64, 67, 0.3), 0px 1px 3px 1px rgba(60, 64, 67, 0.15);\n",
       "        fill: #174EA6;\n",
       "      }\n",
       "\n",
       "      [theme=dark] .colab-df-generate {\n",
       "        background-color: #3B4455;\n",
       "        fill: #D2E3FC;\n",
       "      }\n",
       "\n",
       "      [theme=dark] .colab-df-generate:hover {\n",
       "        background-color: #434B5C;\n",
       "        box-shadow: 0px 1px 3px 1px rgba(0, 0, 0, 0.15);\n",
       "        filter: drop-shadow(0px 1px 2px rgba(0, 0, 0, 0.3));\n",
       "        fill: #FFFFFF;\n",
       "      }\n",
       "    </style>\n",
       "    <button class=\"colab-df-generate\" onclick=\"generateWithVariable('sample_dataframe')\"\n",
       "            title=\"Generate code using this dataframe.\"\n",
       "            style=\"display:none;\">\n",
       "\n",
       "  <svg xmlns=\"http://www.w3.org/2000/svg\" height=\"24px\"viewBox=\"0 0 24 24\"\n",
       "       width=\"24px\">\n",
       "    <path d=\"M7,19H8.4L18.45,9,17,7.55,7,17.6ZM5,21V16.75L18.45,3.32a2,2,0,0,1,2.83,0l1.4,1.43a1.91,1.91,0,0,1,.58,1.4,1.91,1.91,0,0,1-.58,1.4L9.25,21ZM18.45,9,17,7.55Zm-12,3A5.31,5.31,0,0,0,4.9,8.1,5.31,5.31,0,0,0,1,6.5,5.31,5.31,0,0,0,4.9,4.9,5.31,5.31,0,0,0,6.5,1,5.31,5.31,0,0,0,8.1,4.9,5.31,5.31,0,0,0,12,6.5,5.46,5.46,0,0,0,6.5,12Z\"/>\n",
       "  </svg>\n",
       "    </button>\n",
       "    <script>\n",
       "      (() => {\n",
       "      const buttonEl =\n",
       "        document.querySelector('#id_d943f402-c229-4755-9b77-5e20ab551e12 button.colab-df-generate');\n",
       "      buttonEl.style.display =\n",
       "        google.colab.kernel.accessAllowed ? 'block' : 'none';\n",
       "\n",
       "      buttonEl.onclick = () => {\n",
       "        google.colab.notebook.generateWithVariable('sample_dataframe');\n",
       "      }\n",
       "      })();\n",
       "    </script>\n",
       "  </div>\n",
       "\n",
       "    </div>\n",
       "  </div>\n"
      ],
      "text/plain": [
       "                       video_file                          frame_file  \\\n",
       "0      v_BreastStroke_g07_c03.avi  v_BreastStroke_g07_c03_frame_0.jpg   \n",
       "1      v_BreastStroke_g07_c03.avi  v_BreastStroke_g07_c03_frame_1.jpg   \n",
       "2      v_BreastStroke_g07_c03.avi  v_BreastStroke_g07_c03_frame_2.jpg   \n",
       "3      v_BreastStroke_g07_c03.avi  v_BreastStroke_g07_c03_frame_3.jpg   \n",
       "4      v_BreastStroke_g07_c03.avi  v_BreastStroke_g07_c03_frame_4.jpg   \n",
       "...                           ...                                 ...   \n",
       "53733       v_Surfing_g11_c03.avi     v_Surfing_g11_c03_frame_145.jpg   \n",
       "53734       v_Surfing_g11_c03.avi     v_Surfing_g11_c03_frame_146.jpg   \n",
       "53735       v_Surfing_g11_c03.avi     v_Surfing_g11_c03_frame_147.jpg   \n",
       "53736       v_Surfing_g11_c03.avi     v_Surfing_g11_c03_frame_148.jpg   \n",
       "53737       v_Surfing_g11_c03.avi     v_Surfing_g11_c03_frame_149.jpg   \n",
       "\n",
       "              label  \n",
       "0      BreastStroke  \n",
       "1      BreastStroke  \n",
       "2      BreastStroke  \n",
       "3      BreastStroke  \n",
       "4      BreastStroke  \n",
       "...             ...  \n",
       "53733       Surfing  \n",
       "53734       Surfing  \n",
       "53735       Surfing  \n",
       "53736       Surfing  \n",
       "53737       Surfing  \n",
       "\n",
       "[53738 rows x 3 columns]"
      ]
     },
     "execution_count": 6,
     "metadata": {},
     "output_type": "execute_result"
    }
   ],
   "source": [
    "sample_dataframe=dataframe.groupby(\n",
    "    by=\"label\",\n",
    "    group_keys=False\n",
    ").apply(lambda x: x[x[\"video_file\"].isin(x[\"video_file\"].unique()[:50])]).reset_index(drop=True)\n",
    "sample_dataframe"
   ]
  },
  {
   "cell_type": "code",
   "execution_count": null,
   "metadata": {
    "id": "T4Zp2yOQxGF_"
   },
   "outputs": [],
   "source": [
    "def filter_dataframe(\n",
    "    video_files: pd.DataFrame,\n",
    "    dataframe: pd.DataFrame\n",
    ") -> pd.DataFrame:\n",
    "    \"\"\"\n",
    "    Filters a dataframe to include only rows with specified video files.\n",
    "\n",
    "    This function returns a subset of `dataframe` where the \"video_file\" column values are present in the `video_files` dataframe.\n",
    "\n",
    "    Arguments:\n",
    "        video_files (pd.DataFrame): DataFrame containing the video files to filter by, with a \"video_file\" column.\n",
    "        dataframe (pd.DataFrame): The original dataframe to be filtered, containing a \"video_file\" column.\n",
    "\n",
    "    Returns:\n",
    "        pd.DataFrame: A filtered dataframe containing only the rows with video files present in `video_files`.\n",
    "    \"\"\"\n",
    "    return dataframe[dataframe[\"video_file\"].isin(values=video_files[\"video_file\"])]"
   ]
  },
  {
   "cell_type": "code",
   "execution_count": 8,
   "metadata": {
    "colab": {
     "base_uri": "https://localhost:8080/"
    },
    "id": "CWwCAFbCxI6M",
    "outputId": "90d5d5f0-e444-443f-a7d3-869760b604fa"
   },
   "outputs": [
    {
     "name": "stderr",
     "output_type": "stream",
     "text": [
      "100%|██████████| 43418/43418 [01:06<00:00, 649.76it/s]\n",
      "100%|██████████| 5420/5420 [00:08<00:00, 651.61it/s]\n",
      "100%|██████████| 4900/4900 [00:07<00:00, 653.91it/s]"
     ]
    },
    {
     "name": "stdout",
     "output_type": "stream",
     "text": [
      "Training Set: label\n",
      "Rowing          12418\n",
      "Surfing          8375\n",
      "Kayaking         7637\n",
      "BreastStroke     7566\n",
      "Rafting          7422\n",
      "Name: count, dtype: int64\n",
      "Validation Set: label\n",
      "Rowing          1572\n",
      "Surfing         1272\n",
      "Rafting         1086\n",
      "Kayaking         918\n",
      "BreastStroke     572\n",
      "Name: count, dtype: int64\n",
      "Test Set: label\n",
      "Rowing          1232\n",
      "Surfing         1138\n",
      "Rafting         1115\n",
      "Kayaking         854\n",
      "BreastStroke     561\n",
      "Name: count, dtype: int64\n"
     ]
    },
    {
     "name": "stderr",
     "output_type": "stream",
     "text": [
      "\n"
     ]
    }
   ],
   "source": [
    "video_file_labels=sample_dataframe[[\"video_file\", \"label\"]].drop_duplicates()\n",
    "train_files, temporary_files=train_test_split(\n",
    "    video_file_labels,\n",
    "    test_size=0.2,\n",
    "    stratify=video_file_labels[\"label\"],\n",
    "    random_state=42\n",
    ")\n",
    "validation_files, test_files=train_test_split(\n",
    "    temporary_files,\n",
    "    test_size=0.5,\n",
    "    stratify=temporary_files[\"label\"],\n",
    "    random_state=42\n",
    ")\n",
    "train_set=filter_dataframe(\n",
    "    video_files=train_files,\n",
    "    dataframe=sample_dataframe\n",
    ")\n",
    "validation_set=filter_dataframe(\n",
    "    video_files=validation_files,\n",
    "    dataframe=sample_dataframe\n",
    ")\n",
    "test_set=filter_dataframe(\n",
    "    video_files=test_files,\n",
    "    dataframe=sample_dataframe\n",
    ")\n",
    "train_set=train_set.reset_index(drop=True)\n",
    "validation_set=validation_set.reset_index(drop=True)\n",
    "test_set=test_set.reset_index(drop=True)\n",
    "tqdm.pandas()\n",
    "train_set[\"prepared_frame\"]=train_set[\"frame_file\"].progress_apply(lambda x: preprocess_frame(image_path=os.path.join(frame_folder, x)))\n",
    "validation_set[\"prepared_frame\"]=validation_set[\"frame_file\"].progress_apply(lambda x: preprocess_frame(image_path=os.path.join(frame_folder, x)))\n",
    "test_set[\"prepared_frame\"]=test_set[\"frame_file\"].progress_apply(lambda x: preprocess_frame(image_path=os.path.join(frame_folder, x)))\n",
    "print(\"Training Set:\", train_set[\"label\"].value_counts())\n",
    "print(\"Validation Set:\", validation_set[\"label\"].value_counts())\n",
    "print(\"Test Set:\", test_set[\"label\"].value_counts())"
   ]
  },
  {
   "cell_type": "code",
   "execution_count": 9,
   "metadata": {
    "colab": {
     "base_uri": "https://localhost:8080/",
     "height": 507
    },
    "id": "viXcq5JTxKrr",
    "outputId": "951ec978-a330-40b3-b441-d7e138eecb24"
   },
   "outputs": [
    {
     "data": {
      "image/png": "[encoded data removed]",
      "text/plain": [
       "<Figure size 1000x500 with 1 Axes>"
      ]
     },
     "metadata": {},
     "output_type": "display_data"
    }
   ],
   "source": [
    "train_set[\"Split\"]=\"Train\"\n",
    "validation_set[\"Split\"]=\"Validation\"\n",
    "test_set[\"Split\"]=\"Test\"\n",
    "combined_set=pd.concat(objs=[train_set, validation_set, test_set])\n",
    "plt.figure(figsize=(10, 5))\n",
    "sns.histplot(\n",
    "    data=combined_set,\n",
    "    x=\"label\",\n",
    "    hue=\"Split\",\n",
    "    stat=\"density\",\n",
    "    common_norm=False,\n",
    "    kde=True,\n",
    "    bins=20\n",
    ")\n",
    "plt.xlabel(\n",
    "    xlabel=\"Labels\",\n",
    "    labelpad=10,\n",
    "    fontdict={\"fontsize\": 10}\n",
    ")\n",
    "plt.ylabel(\n",
    "    ylabel=\"Density\",\n",
    "    labelpad=10,\n",
    "    fontdict={\"fontsize\": 10}\n",
    ")\n",
    "plt.title(\n",
    "    label=\"Distribution of Data Across Splits\",\n",
    "    pad=10,\n",
    "    fontdict={\"fontsize\": 12}\n",
    ")\n",
    "plt.tight_layout()\n",
    "plt.show()\n",
    "train_set=train_set.drop(columns=\"Split\")\n",
    "validation_set=validation_set.drop(columns=\"Split\")\n",
    "test_set=test_set.drop(columns=\"Split\")"
   ]
  },
  {
   "cell_type": "code",
   "execution_count": 10,
   "metadata": {
    "colab": {
     "base_uri": "https://localhost:8080/",
     "height": 636
    },
    "id": "GBdgfm0MxnTh",
    "outputId": "3dc0a0c3-613c-4a1c-8ebe-0261a30757a8"
   },
   "outputs": [
    {
     "data": {
      "image/png": "[encoded data removed]",
      "text/plain": [
       "<Figure size 2000x800 with 10 Axes>"
      ]
     },
     "metadata": {},
     "output_type": "display_data"
    }
   ],
   "source": [
    "example_frames=train_set[train_set[\"video_file\"]==train_set[\"video_file\"][0]][\"prepared_frame\"].values\n",
    "_, axes=plt.subplots(\n",
    "    nrows=2,\n",
    "    ncols=5,\n",
    "    figsize=(20, 8)\n",
    ")\n",
    "for i, ax in enumerate(axes.flatten()):\n",
    "    ax.imshow(X=example_frames[i])\n",
    "    ax.axis(\"off\")\n",
    "plt.tight_layout()\n",
    "plt.show()"
   ]
  },
  {
   "cell_type": "code",
   "execution_count": null,
   "metadata": {
    "id": "OlcWFrROxpCV"
   },
   "outputs": [],
   "source": [
    "def create_video(\n",
    "    frames: list,\n",
    "    video_path: str,\n",
    "    fps: int=10\n",
    "):\n",
    "    \"\"\"\n",
    "    Creates a video file from a list of frames.\n",
    "\n",
    "    This function takes a list of frames, converts them to the appropriate format, and writes them to a video file at the specified `video_path`.\n",
    "\n",
    "    Arguments:\n",
    "        frames (list): A list of frames (as NumPy arrays) to be compiled into a video.\n",
    "        video_path (str): The path where the output video will be saved.\n",
    "        fps (int, optional): Frames per second for the output video. Defaults to 10.\n",
    "    \"\"\"\n",
    "    frame_shape = frames[0].shape\n",
    "    fourcc = cv2.VideoWriter_fourcc(*\"mp4v\")\n",
    "    out = cv2.VideoWriter(\n",
    "        filename=video_path,\n",
    "        fourcc=fourcc,\n",
    "        fps=fps,\n",
    "        frameSize=(frame_shape[1], frame_shape[0]),\n",
    "        isColor=True\n",
    "    )\n",
    "    for frame in tqdm(\n",
    "        iterable=frames,\n",
    "        desc=\"Creating Video\",\n",
    "        unit=\"frame\"\n",
    "    ):\n",
    "        frame = (frame * 255).astype(np.uint8)\n",
    "        out.write(cv2.cvtColor(frame, cv2.COLOR_RGB2BGR)) \n",
    "    out.release()\n"
   ]
  },
  {
   "cell_type": "code",
   "execution_count": 12,
   "metadata": {
    "colab": {
     "base_uri": "https://localhost:8080/"
    },
    "id": "DFooqBSCxq8s",
    "outputId": "09c06de4-92fb-4bf8-cfab-73e42365fb5e"
   },
   "outputs": [
    {
     "name": "stderr",
     "output_type": "stream",
     "text": [
      "Creating Video: 100%|██████████| 127/127 [00:00<00:00, 7460.14frame/s]\n"
     ]
    }
   ],
   "source": [
    "video_path=r\"app/out/tests/example_video.mp4\"\n",
    "create_video(\n",
    "    frames=example_frames,\n",
    "    video_path=video_path\n",
    ")"
   ]
  },
  {
   "cell_type": "code",
   "execution_count": null,
   "metadata": {
    "id": "aMS8tX0OxtIL"
   },
   "outputs": [],
   "source": [
    "class VideoDataset(Dataset):\n",
    "    \"\"\"\n",
    "    A PyTorch Dataset class for loading sequences of video frames for training and evaluation.\n",
    "\n",
    "    This dataset organizes video frames into sequences of a specified length, allowing models to learn temporal dependencies.\n",
    "    It handles the grouping of frames by video file and prepares samples consisting of input frame sequences and target frames.\n",
    "\n",
    "    Arguments:\n",
    "        dataframe (pd.DataFrame): A dataframe containing video file information and corresponding prepared frame data.\n",
    "        sequence_length (int, optional): The total length of each sequence, including input and target frames. Defaults to 11.\n",
    "\n",
    "    Attributes:\n",
    "        dataframe (pd.DataFrame): The original dataframe containing video and frame information.\n",
    "        sequence_length (int): The total number of frames per sequence.\n",
    "        video_groups (pd.Series): A series where each entry is a list of prepared frames for a video file.\n",
    "    \"\"\"\n",
    "    def __init__(\n",
    "        self: None,\n",
    "        dataframe: pd.DataFrame,\n",
    "        sequence_length: int=11\n",
    "    ) -> None:\n",
    "        self.dataframe=dataframe\n",
    "        self.sequence_length=sequence_length\n",
    "        self.video_groups=dataframe.groupby(by=\"video_file\")[\"prepared_frame\"].apply(list)\n",
    "\n",
    "    def __len__(self: None) -> int:\n",
    "        return sum(len(frames)-self.sequence_length+1 for frames in self.video_groups if len(frames)>=self.sequence_length)\n",
    "\n",
    "    def __getitem__(\n",
    "        self: None,\n",
    "        index: int\n",
    "    ) -> tuple:\n",
    "        cumulative_index=0\n",
    "        for frames in self.video_groups:\n",
    "            if len(frames)>=self.sequence_length:\n",
    "                num_sequences=len(frames)-self.sequence_length+1\n",
    "                if index<cumulative_index+num_sequences:\n",
    "                    sequence_index=index-cumulative_index\n",
    "                    sequence=frames[sequence_index:sequence_index+self.sequence_length]\n",
    "                    sequence=torch.stack(tensors=[torch.tensor(\n",
    "                            data=f,\n",
    "                            dtype=torch.float32\n",
    "                        ).permute(2, 0, 1) for f in sequence]\n",
    "                    )\n",
    "                    input_frames=sequence[:10]\n",
    "                    target_frame=sequence[10]\n",
    "                    return input_frames, target_frame\n",
    "                cumulative_index+=num_sequences\n",
    "        raise IndexError(\"Index out of bounds\")"
   ]
  },
  {
   "cell_type": "code",
   "execution_count": null,
   "metadata": {
    "id": "00M_wIRnxut9"
   },
   "outputs": [],
   "source": [
    "def collate_function(batch: list) -> tuple:\n",
    "    \"\"\"\n",
    "    Collates a batch of data into input and target tensors for model training.\n",
    "\n",
    "    This function takes a list of samples, where each sample is a tuple of (input_frames, target_frames),\n",
    "    and stacks them into separate tensors for inputs and targets.\n",
    "\n",
    "    Arguments:\n",
    "        batch (list): A list of tuples, each containing:\n",
    "            - input_frames (torch.Tensor): The input frame sequence.\n",
    "            - target_frames (torch.Tensor): The target frame sequence.\n",
    "\n",
    "    Returns:\n",
    "        tuple: A tuple containing:\n",
    "            - input_frames (torch.Tensor): A tensor of stacked input frame sequences. Shape: (batch_size, input_channels, H, W)\n",
    "            - target_frames (torch.Tensor): A tensor of stacked target frames. Shape: (batch_size, target_channels, H, W)\n",
    "    \"\"\"\n",
    "    input_frames, target_frames=zip(*batch)\n",
    "    input_frames=torch.stack(tensors=input_frames)\n",
    "    target_frames=torch.stack(tensors=target_frames)\n",
    "    return input_frames, target_frames"
   ]
  },
  {
   "cell_type": "code",
   "execution_count": 15,
   "metadata": {
    "id": "jj3CxTpGxv-_"
   },
   "outputs": [],
   "source": [
    "train_dataset=VideoDataset(dataframe=train_set)\n",
    "validation_dataset=VideoDataset(dataframe=validation_set)\n",
    "test_dataset=VideoDataset(dataframe=test_set)\n",
    "train_loader=DataLoader(\n",
    "    dataset=train_dataset,\n",
    "    batch_size=95,\n",
    "    shuffle=True,\n",
    "    collate_fn=collate_function\n",
    ")\n",
    "validation_loader=DataLoader(\n",
    "    dataset=validation_dataset,\n",
    "    batch_size=75,\n",
    "    shuffle=False,\n",
    "    collate_fn=collate_function\n",
    ")\n",
    "test_loader=DataLoader(\n",
    "    dataset=test_dataset,\n",
    "    batch_size=75,\n",
    "    shuffle=False,\n",
    "    collate_fn=collate_function\n",
    ")"
   ]
  },
  {
   "cell_type": "code",
   "execution_count": 16,
   "metadata": {
    "colab": {
     "base_uri": "https://localhost:8080/"
    },
    "id": "fWwfKn5UxxAZ",
    "outputId": "c73f0d6f-01a0-4401-ce0f-1d971cd8e4a5"
   },
   "outputs": [
    {
     "name": "stdout",
     "output_type": "stream",
     "text": [
      "Device: cuda\n"
     ]
    }
   ],
   "source": [
    "device=torch.device(\"cuda\" if torch.cuda.is_available() else \"cpu\")\n",
    "print(\"Device:\", device)"
   ]
  },
  {
   "cell_type": "code",
   "execution_count": 17,
   "metadata": {
    "colab": {
     "base_uri": "https://localhost:8080/"
    },
    "id": "toKL-HiOxyQR",
    "outputId": "08f2f363-21b7-448b-ad23-57e7bf9fd6a3"
   },
   "outputs": [
    {
     "data": {
      "text/plain": [
       "ConvLSTMNet(\n",
       "  (sequential): Sequential(\n",
       "    (convlstm1): ConvLSTM(\n",
       "      (convolutional_lstm_cell): ConvLSTMCell(\n",
       "        (convolutional_layer): Conv2d(67, 256, kernel_size=(3, 3), stride=(1, 1), padding=(1, 1))\n",
       "      )\n",
       "    )\n",
       "    (batchnorm1): BatchNorm3d(64, eps=1e-05, momentum=0.1, affine=True, track_running_stats=True)\n",
       "    (convlstm2): ConvLSTM(\n",
       "      (convolutional_lstm_cell): ConvLSTMCell(\n",
       "        (convolutional_layer): Conv2d(128, 256, kernel_size=(3, 3), stride=(1, 1), padding=(1, 1))\n",
       "      )\n",
       "    )\n",
       "    (batchnorm2): BatchNorm3d(64, eps=1e-05, momentum=0.1, affine=True, track_running_stats=True)\n",
       "  )\n",
       "  (convolutional_layer): Conv2d(64, 3, kernel_size=(3, 3), stride=(1, 1), padding=(1, 1))\n",
       ")"
      ]
     },
     "execution_count": 17,
     "metadata": {},
     "output_type": "execute_result"
    }
   ],
   "source": [
    "n_channels=3\n",
    "n_kernels=64\n",
    "n_layers=2\n",
    "kernel_size=3\n",
    "padding=1\n",
    "activation=\"relu\"\n",
    "frame_size=(64, 64)\n",
    "model=ConvLSTMNet(\n",
    "    n_channels=n_channels,\n",
    "    n_kernels=n_kernels,\n",
    "    n_layers=n_layers,\n",
    "    kernel_size=kernel_size,\n",
    "    padding=padding,\n",
    "    activation=activation,\n",
    "    frame_size=frame_size\n",
    ").to(device)\n",
    "model"
   ]
  },
  {
   "cell_type": "code",
   "execution_count": 18,
   "metadata": {
    "colab": {
     "base_uri": "https://localhost:8080/"
    },
    "id": "8w31ITvkxzV-",
    "outputId": "96a8032c-554d-42f4-b813-9c83e1c1b174"
   },
   "outputs": [
    {
     "name": "stderr",
     "output_type": "stream",
     "text": [
      "/usr/local/lib/python3.10/dist-packages/torch/optim/lr_scheduler.py:62: UserWarning: The verbose parameter is deprecated. Please use get_last_lr() to access the learning rate.\n",
      "  warnings.warn(\n"
     ]
    }
   ],
   "source": [
    "criterion=nn.MSELoss()\n",
    "optimiser=Adam(\n",
    "    params=model.parameters(),\n",
    "    lr=0.001\n",
    ")\n",
    "scheduler=ReduceLROnPlateau(\n",
    "    optimizer=optimiser,\n",
    "    mode=\"min\",\n",
    "    patience=5,\n",
    "    verbose=True\n",
    ")"
   ]
  },
  {
   "cell_type": "code",
   "execution_count": null,
   "metadata": {
    "id": "RWhbksn3K66A"
   },
   "outputs": [],
   "source": [
    "def save_checkpoint(model, optimizer, epoch, loss, filepath):\n",
    "    \"\"\"\n",
    "    Saves the current state of the model and optimizer to a checkpoint file.\n",
    "\n",
    "    This function serializes the model's state dictionary, optimizer's state dictionary,\n",
    "    current epoch, and loss value, and saves them to the specified `filepath`.\n",
    "\n",
    "    Arguments:\n",
    "        model (nn.Module): The neural network model to save.\n",
    "        optimizer (torch.optim.Optimizer): The optimizer used during training.\n",
    "        epoch (int): The current epoch number.\n",
    "        loss (float): The current loss value.\n",
    "        filepath (str): The path where the checkpoint will be saved.\n",
    "    \"\"\"\n",
    "    checkpoint = {\n",
    "        'epoch': epoch,\n",
    "        'model_state_dict': model.state_dict(),\n",
    "        'optimizer_state_dict': optimizer.state_dict(),\n",
    "        'loss': loss\n",
    "    }\n",
    "    torch.save(checkpoint, filepath)\n",
    "    print(f\"Checkpoint saved at {filepath}\")"
   ]
  },
  {
   "cell_type": "code",
   "execution_count": null,
   "metadata": {
    "id": "5fwlJXX2Z7--"
   },
   "outputs": [],
   "source": [
    "def load_checkpoint(filepath, model, optimizer):\n",
    "    \"\"\"\n",
    "    Loads the model and optimizer states from a checkpoint file.\n",
    "\n",
    "    This function deserializes the checkpoint file located at `filepath` and updates the model and optimizer\n",
    "    with the saved states. It also retrieves the epoch number and loss value from the checkpoint.\n",
    "\n",
    "    Arguments:\n",
    "        filepath (str): The path to the checkpoint file.\n",
    "        model (nn.Module): The neural network model to load the state into.\n",
    "        optimizer (torch.optim.Optimizer): The optimizer to load the state into.\n",
    "\n",
    "    Returns:\n",
    "        tuple:\n",
    "            - start_epoch (int): The epoch number to start training from.\n",
    "            - loss (float): The loss value from the checkpoint.\n",
    "\n",
    "    Raises:\n",
    "        FileNotFoundError: If the checkpoint file does not exist at the specified `filepath`.\n",
    "    \"\"\"\n",
    "    if os.path.exists(filepath):\n",
    "        checkpoint = torch.load(filepath)\n",
    "        model.load_state_dict(checkpoint['model_state_dict'])\n",
    "        optimizer.load_state_dict(checkpoint['optimizer_state_dict'])\n",
    "        start_epoch = checkpoint['epoch'] + 1\n",
    "        loss = checkpoint['loss']\n",
    "        print(f\"Checkpoint loaded from {filepath}, starting from epoch {start_epoch}\")\n",
    "        return start_epoch, loss\n",
    "    else:\n",
    "        print(f\"No checkpoint found at {filepath}\")\n",
    "        return 0, float('inf')"
   ]
  },
  {
   "cell_type": "code",
   "execution_count": 25,
   "metadata": {
    "id": "edI50CVYLJ7_"
   },
   "outputs": [],
   "source": [
    "checkpoint_path = \"app/checkpoint.pth\""
   ]
  },
  {
   "cell_type": "code",
   "execution_count": null,
   "metadata": {
    "id": "jk7o8QMfx0q9"
   },
   "outputs": [],
   "source": [
    "def train(\n",
    "    model: nn.Module,\n",
    "    criterion: nn.Module,\n",
    "    optimiser: torch.optim.Optimizer,\n",
    "    train_loader: DataLoader,\n",
    "    validation_loader: DataLoader,\n",
    "    epochs: int,\n",
    "    device: torch.device,\n",
    "    checkpoint_path: str\n",
    ") -> None:\n",
    "    \"\"\"\n",
    "    Trains the model using the provided training and validation data loaders.\n",
    "\n",
    "    This function handles the training loop, including loading checkpoints, performing forward and backward passes,\n",
    "    updating model parameters, evaluating on the validation set, and saving the best model based on validation loss.\n",
    "\n",
    "    Arguments:\n",
    "        model (nn.Module): The neural network model to train.\n",
    "        criterion (nn.Module): The loss function used for optimization.\n",
    "        optimiser (torch.optim.Optimizer): The optimizer used to update model parameters.\n",
    "        train_loader (DataLoader): DataLoader for the training dataset.\n",
    "        validation_loader (DataLoader): DataLoader for the validation dataset.\n",
    "        epochs (int): The total number of training epochs.\n",
    "        device (torch.device): The device (CPU or GPU) to perform computations on.\n",
    "        checkpoint_path (str): The file path to save the best model checkpoint.\n",
    "    \"\"\"\n",
    "    start_epoch, best_validation_loss = load_checkpoint(checkpoint_path, model, optimiser)\n",
    "\n",
    "    for epoch in range(start_epoch, epochs):\n",
    "        model.train()\n",
    "        train_loss = 0.0\n",
    "        for input_frames, target_frame in tqdm(\n",
    "            iterable=train_loader,\n",
    "            desc=f\"Training Epoch {epoch+1}/{epochs}\",\n",
    "            unit=\"batch\"\n",
    "        ):\n",
    "            input_frames = input_frames.permute(0, 2, 1, 3, 4).to(device)\n",
    "            target_frame = target_frame.to(device)\n",
    "            optimiser.zero_grad()\n",
    "            output = model(input_frames)\n",
    "            loss = criterion(output, target_frame)\n",
    "            loss.backward()\n",
    "            optimiser.step()\n",
    "            train_loss += loss.item()\n",
    "        train_loss /= len(train_loader)\n",
    "\n",
    "        model.eval()\n",
    "        validation_loss = 0.0\n",
    "        with torch.no_grad():\n",
    "            for input_frames, target_frame in tqdm(\n",
    "                iterable=validation_loader,\n",
    "                desc=f\"Validation Epoch {epoch+1}/{epochs}\",\n",
    "                unit=\"batch\"\n",
    "            ):\n",
    "                input_frames = input_frames.permute(0, 2, 1, 3, 4).to(device)\n",
    "                target_frame = target_frame.to(device)\n",
    "                output = model(input_frames)\n",
    "                loss = criterion(output, target_frame)\n",
    "                validation_loss += loss.item()\n",
    "            validation_loss /= len(validation_loader)\n",
    "\n",
    "        scheduler.step(validation_loss)\n",
    "\n",
    "        if validation_loss < best_validation_loss:\n",
    "            print(f\"Validation loss improved from {best_validation_loss} to {validation_loss}. Saving checkpoint...\")\n",
    "            best_validation_loss = validation_loss\n",
    "            save_checkpoint(model, optimiser, epoch, best_validation_loss, checkpoint_path)\n",
    "\n",
    "        print(f\"Epoch {epoch+1}/{epochs}, Train Loss: {train_loss}, Validation Loss: {validation_loss}\")"
   ]
  },
  {
   "cell_type": "code",
   "execution_count": 27,
   "metadata": {
    "colab": {
     "base_uri": "https://localhost:8080/"
    },
    "id": "H7dMCoy48rOU",
    "outputId": "22b21a24-3267-4aa1-f36f-949696791039"
   },
   "outputs": [
    {
     "name": "stdout",
     "output_type": "stream",
     "text": [
      "Clearing GPU memory...\n",
      "GPU memory cleared.\n"
     ]
    }
   ],
   "source": [
    "import gc\n",
    "\n",
    "def clear_gpu_memory():\n",
    "    print(\"Clearing GPU memory...\")\n",
    "    gc.collect()\n",
    "    torch.cuda.empty_cache()\n",
    "    torch.cuda.reset_peak_memory_stats()\n",
    "    torch.cuda.reset_accumulated_memory_stats()\n",
    "    torch.cuda.synchronize()\n",
    "    print(\"GPU memory cleared.\")\n",
    "\n",
    "os.environ['PYTORCH_CUDA_ALLOC_CONF'] = 'expandable_segments:True'\n",
    "\n",
    "clear_gpu_memory()"
   ]
  },
  {
   "cell_type": "code",
   "execution_count": 28,
   "metadata": {
    "colab": {
     "base_uri": "https://localhost:8080/"
    },
    "id": "1A_S67TPx3Tp",
    "outputId": "243e3692-6d76-4a33-8a08-78ea374af9c0"
   },
   "outputs": [
    {
     "name": "stdout",
     "output_type": "stream",
     "text": [
      "No checkpoint found at app/checkpoint.pth\n"
     ]
    },
    {
     "name": "stderr",
     "output_type": "stream",
     "text": [
      "Training Epoch 1/10: 100%|██████████| 436/436 [03:59<00:00,  1.82batch/s]\n",
      "Validation Epoch 1/10: 100%|██████████| 69/69 [00:10<00:00,  6.40batch/s]\n"
     ]
    },
    {
     "name": "stdout",
     "output_type": "stream",
     "text": [
      "Validation loss improved from inf to 0.0026316528619381775. Saving checkpoint...\n",
      "Checkpoint saved at app/checkpoint.pth\n",
      "Epoch 1/10, Train Loss: 0.0023870425776219627, Validation Loss: 0.0026316528619381775\n"
     ]
    },
    {
     "name": "stderr",
     "output_type": "stream",
     "text": [
      "Training Epoch 2/10: 100%|██████████| 436/436 [03:59<00:00,  1.82batch/s]\n",
      "Validation Epoch 2/10: 100%|██████████| 69/69 [00:10<00:00,  6.46batch/s]\n"
     ]
    },
    {
     "name": "stdout",
     "output_type": "stream",
     "text": [
      "Validation loss improved from 0.0026316528619381775 to 0.0021951300500338707. Saving checkpoint...\n",
      "Checkpoint saved at app/checkpoint.pth\n",
      "Epoch 2/10, Train Loss: 0.00221399120332827, Validation Loss: 0.0021951300500338707\n"
     ]
    },
    {
     "name": "stderr",
     "output_type": "stream",
     "text": [
      "Training Epoch 3/10: 100%|██████████| 436/436 [03:59<00:00,  1.82batch/s]\n",
      "Validation Epoch 3/10: 100%|██████████| 69/69 [00:10<00:00,  6.42batch/s]\n"
     ]
    },
    {
     "name": "stdout",
     "output_type": "stream",
     "text": [
      "Epoch 3/10, Train Loss: 0.002161578073138542, Validation Loss: 0.0025450642173434944\n"
     ]
    },
    {
     "name": "stderr",
     "output_type": "stream",
     "text": [
      "Training Epoch 4/10: 100%|██████████| 436/436 [03:59<00:00,  1.82batch/s]\n",
      "Validation Epoch 4/10: 100%|██████████| 69/69 [00:10<00:00,  6.48batch/s]\n"
     ]
    },
    {
     "name": "stdout",
     "output_type": "stream",
     "text": [
      "Validation loss improved from 0.0021951300500338707 to 0.002078143963602918. Saving checkpoint...\n",
      "Checkpoint saved at app/checkpoint.pth\n",
      "Epoch 4/10, Train Loss: 0.0020812729164240286, Validation Loss: 0.002078143963602918\n"
     ]
    },
    {
     "name": "stderr",
     "output_type": "stream",
     "text": [
      "Training Epoch 5/10: 100%|██████████| 436/436 [03:59<00:00,  1.82batch/s]\n",
      "Validation Epoch 5/10: 100%|██████████| 69/69 [00:10<00:00,  6.45batch/s]\n"
     ]
    },
    {
     "name": "stdout",
     "output_type": "stream",
     "text": [
      "Epoch 5/10, Train Loss: 0.002043744600687706, Validation Loss: 0.002548542583995647\n"
     ]
    },
    {
     "name": "stderr",
     "output_type": "stream",
     "text": [
      "Training Epoch 6/10: 100%|██████████| 436/436 [03:59<00:00,  1.82batch/s]\n",
      "Validation Epoch 6/10: 100%|██████████| 69/69 [00:10<00:00,  6.48batch/s]\n"
     ]
    },
    {
     "name": "stdout",
     "output_type": "stream",
     "text": [
      "Validation loss improved from 0.002078143963602918 to 0.0020242109763996164. Saving checkpoint...\n",
      "Checkpoint saved at app/checkpoint.pth\n",
      "Epoch 6/10, Train Loss: 0.001980792516372551, Validation Loss: 0.0020242109763996164\n"
     ]
    },
    {
     "name": "stderr",
     "output_type": "stream",
     "text": [
      "Training Epoch 7/10: 100%|██████████| 436/436 [03:59<00:00,  1.82batch/s]\n",
      "Validation Epoch 7/10: 100%|██████████| 69/69 [00:10<00:00,  6.44batch/s]\n"
     ]
    },
    {
     "name": "stdout",
     "output_type": "stream",
     "text": [
      "Validation loss improved from 0.0020242109763996164 to 0.0019084220842594968. Saving checkpoint...\n",
      "Checkpoint saved at app/checkpoint.pth\n",
      "Epoch 7/10, Train Loss: 0.0019265423345148837, Validation Loss: 0.0019084220842594968\n"
     ]
    },
    {
     "name": "stderr",
     "output_type": "stream",
     "text": [
      "Training Epoch 8/10: 100%|██████████| 436/436 [03:59<00:00,  1.82batch/s]\n",
      "Validation Epoch 8/10: 100%|██████████| 69/69 [00:10<00:00,  6.48batch/s]\n"
     ]
    },
    {
     "name": "stdout",
     "output_type": "stream",
     "text": [
      "Epoch 8/10, Train Loss: 0.0019011419915824855, Validation Loss: 0.001959146297810113\n"
     ]
    },
    {
     "name": "stderr",
     "output_type": "stream",
     "text": [
      "Training Epoch 9/10: 100%|██████████| 436/436 [03:59<00:00,  1.82batch/s]\n",
      "Validation Epoch 9/10: 100%|██████████| 69/69 [00:10<00:00,  6.42batch/s]\n"
     ]
    },
    {
     "name": "stdout",
     "output_type": "stream",
     "text": [
      "Epoch 9/10, Train Loss: 0.0018628746456169703, Validation Loss: 0.0019836709011081216\n"
     ]
    },
    {
     "name": "stderr",
     "output_type": "stream",
     "text": [
      "Training Epoch 10/10: 100%|██████████| 436/436 [04:00<00:00,  1.82batch/s]\n",
      "Validation Epoch 10/10: 100%|██████████| 69/69 [00:10<00:00,  6.45batch/s]"
     ]
    },
    {
     "name": "stdout",
     "output_type": "stream",
     "text": [
      "Epoch 10/10, Train Loss: 0.0018338275178327063, Validation Loss: 0.001927818041134531\n"
     ]
    },
    {
     "name": "stderr",
     "output_type": "stream",
     "text": [
      "\n"
     ]
    }
   ],
   "source": [
    "train(\n",
    "    model=model,\n",
    "    criterion=criterion,\n",
    "    optimiser=optimiser,\n",
    "    train_loader=train_loader,\n",
    "    validation_loader=validation_loader,\n",
    "    epochs=10,\n",
    "    device=device,\n",
    "    checkpoint_path=checkpoint_path\n",
    "    )"
   ]
  },
  {
   "cell_type": "code",
   "execution_count": null,
   "metadata": {
    "colab": {
     "base_uri": "https://localhost:8080/"
    },
    "id": "CcfZ_Tvx9bIu",
    "outputId": "7416a1b3-68cb-4328-fb93-38e300c895fc"
   },
   "outputs": [
    {
     "name": "stderr",
     "output_type": "stream",
     "text": [
      "Testing: 100%|██████████| 62/62 [00:09<00:00,  6.40batch/s]"
     ]
    },
    {
     "name": "stdout",
     "output_type": "stream",
     "text": [
      "Test Loss: 0.0012304854268046666\n"
     ]
    },
    {
     "name": "stderr",
     "output_type": "stream",
     "text": [
      "\n"
     ]
    }
   ],
   "source": [
    "def evaluate_model(model, test_loader, criterion, device):\n",
    "    \"\"\"\n",
    "    Evaluates the model's performance on the test dataset.\n",
    "\n",
    "    This function computes the average loss over the test dataset by performing forward passes\n",
    "    without gradient computations.\n",
    "\n",
    "    Arguments:\n",
    "        model (nn.Module): The trained neural network model to evaluate.\n",
    "        test_loader (DataLoader): DataLoader for the test dataset.\n",
    "        criterion (nn.Module): The loss function used for evaluation.\n",
    "        device (torch.device): The device (CPU or GPU) to perform computations on.\n",
    "\n",
    "    Returns:\n",
    "        float: The average loss over the test dataset.\n",
    "    \"\"\"\n",
    "    model.eval()\n",
    "    test_loss = 0.0\n",
    "    with torch.no_grad():\n",
    "        for input_frames, target_frame in tqdm(\n",
    "            iterable=test_loader,\n",
    "            desc=\"Testing\",\n",
    "            unit=\"batch\"\n",
    "        ):\n",
    "            input_frames = input_frames.permute(0, 2, 1, 3, 4).to(device)\n",
    "            target_frame = target_frame.to(device)\n",
    "            output = model(input_frames)\n",
    "            loss = criterion(output, target_frame)\n",
    "            test_loss += loss.item()\n",
    "        test_loss /= len(test_loader)\n",
    "    print(f\"Test Loss: {test_loss}\")\n",
    "    return test_loss\n",
    "\n",
    "test_loss = evaluate_model(model, test_loader, criterion, device)"
   ]
  },
  {
   "cell_type": "code",
   "execution_count": 30,
   "metadata": {
    "id": "y5yHR9rZ96wt"
   },
   "outputs": [],
   "source": [
    "def generate_frames(\n",
    "    model: nn.Module,\n",
    "    data_loader: DataLoader,\n",
    "    device: torch.device\n",
    ") -> list:\n",
    "    model.eval()\n",
    "    generated_frames=[]\n",
    "    with torch.no_grad():\n",
    "        for input_frames, _ in tqdm(\n",
    "            iterable=data_loader,\n",
    "            desc=\"Generating Frames\",\n",
    "            unit=\"batch\"\n",
    "        ):\n",
    "            input_frames=input_frames.permute(0, 2, 1, 3, 4).to(device)\n",
    "            output=model(input_frames)\n",
    "            generated_frames.append(output.cpu().numpy())\n",
    "    return generated_frames"
   ]
  },
  {
   "cell_type": "code",
   "execution_count": 31,
   "metadata": {
    "colab": {
     "base_uri": "https://localhost:8080/",
     "height": 654
    },
    "id": "hvOSHH9D-RXJ",
    "outputId": "e35a2f6f-a19f-4778-d83f-fa31d1587756"
   },
   "outputs": [
    {
     "name": "stderr",
     "output_type": "stream",
     "text": [
      "Generating Frames: 100%|██████████| 62/62 [00:09<00:00,  6.28batch/s]\n"
     ]
    },
    {
     "data": {
      "image/png": "[encoded data removed]",
      "text/plain": [
       "<Figure size 2000x800 with 10 Axes>"
      ]
     },
     "metadata": {},
     "output_type": "display_data"
    }
   ],
   "source": [
    "generated_frames=generate_frames(\n",
    "    model=model,\n",
    "    data_loader=test_loader,\n",
    "    device=device\n",
    ")\n",
    "generated_frames=np.concatenate(\n",
    "    generated_frames,\n",
    "    axis=0\n",
    ")\n",
    "_, axes=plt.subplots(\n",
    "    nrows=2,\n",
    "    ncols=5,\n",
    "    figsize=(20, 8)\n",
    ")\n",
    "for i, ax in enumerate(axes.flatten()):\n",
    "    ax.imshow(X=generated_frames[i][0])\n",
    "    ax.axis(\"off\")\n",
    "plt.tight_layout()\n",
    "plt.show()"
   ]
  },
  {
   "cell_type": "code",
   "execution_count": 32,
   "metadata": {
    "colab": {
     "base_uri": "https://localhost:8080/"
    },
    "id": "RK1VAmBk-gA8",
    "outputId": "fbb93d18-3946-47d5-b528-f32955d48b86"
   },
   "outputs": [
    {
     "name": "stderr",
     "output_type": "stream",
     "text": [
      "Creating Video: 100%|██████████| 4650/4650 [00:00<00:00, 8328.41frame/s]\n"
     ]
    }
   ],
   "source": [
    "video_frames=[frame.transpose(1, 2, 0) for frame in generated_frames]\n",
    "video_path=r\"Conv_LSTM.mp4\"\n",
    "create_video(\n",
    "    frames=video_frames,\n",
    "    video_path=video_path\n",
    ")"
   ]
  },
  {
   "cell_type": "code",
   "execution_count": 33,
   "metadata": {
    "id": "1_gbp2wwPc6X"
   },
   "outputs": [],
   "source": [
    "model_path=r\"Conv_LSTM.pth\"\n",
    "torch.save(\n",
    "    obj=model.state_dict(),\n",
    "    f=model_path\n",
    ")"
   ]
  },
  {
   "cell_type": "code",
   "execution_count": 35,
   "metadata": {
    "colab": {
     "base_uri": "https://localhost:8080/"
    },
    "id": "BzwiqQo8PSld",
    "outputId": "00fffc25-b4e2-4828-f775-d6c03dd942df"
   },
   "outputs": [
    {
     "name": "stdout",
     "output_type": "stream",
     "text": [
      "Mounted at /content/drive\n"
     ]
    }
   ],
   "source": [
    "from google.colab import drive\n",
    "drive.mount('/content/drive')\n",
    "\n",
    "!cp Conv_LSTM.pth /content/drive/MyDrive/"
   ]
  },
  {
   "cell_type": "code",
   "execution_count": 40,
   "metadata": {
    "id": "SOUu03KCQrS9"
   },
   "outputs": [],
   "source": [
    "from skimage.metrics import structural_similarity as ssim"
   ]
  },
  {
   "cell_type": "code",
   "execution_count": null,
   "metadata": {
    "id": "2b73xorlQBXu"
   },
   "outputs": [],
   "source": [
    "def evaluate_model_with_ssim(model, test_loader, criterion, device):\n",
    "    \"\"\"\n",
    "    Evaluates the ConvLSTM model on the test set and computes both MSE Loss and SSIM.\n",
    "\n",
    "    Args:\n",
    "        model (nn.Module): Trained ConvLSTM model.\n",
    "        test_loader (DataLoader): DataLoader for the test dataset.\n",
    "        criterion (nn.Module): Loss function (e.g., MSELoss).\n",
    "        device (torch.device): Device to perform computations on.\n",
    "\n",
    "    Returns:\n",
    "        Tuple containing average test loss and average SSIM.\n",
    "    \"\"\"\n",
    "    model.eval()\n",
    "    test_loss = 0.0\n",
    "    ssim_total = 0.0\n",
    "    num_frames = 0\n",
    "\n",
    "    with torch.no_grad():\n",
    "        for input_frames, target_frame in tqdm(\n",
    "            iterable=test_loader,\n",
    "            desc=\"Testing\",\n",
    "            unit=\"batch\"\n",
    "        ):\n",
    "            input_frames = input_frames.permute(0, 2, 1, 3, 4).to(device)  # Adjust if necessary\n",
    "            target_frame = target_frame.to(device)\n",
    "\n",
    "            output = model(input_frames)\n",
    "\n",
    "            loss = criterion(output, target_frame)\n",
    "            test_loss += loss.item()\n",
    "\n",
    "            output_np = output.cpu().numpy()\n",
    "            target_np = target_frame.cpu().numpy()\n",
    "\n",
    "            batch_size = output_np.shape[0]\n",
    "            for i in range(batch_size):\n",
    "                if output_np.shape[1] == 1:\n",
    "                    pred = output_np[i, 0, :, :]\n",
    "                    targ = target_np[i, 0, :, :]\n",
    "                else:\n",
    "                    pred = np.mean(output_np[i], axis=0)\n",
    "                    targ = np.mean(target_np[i], axis=0)\n",
    "\n",
    "                pred = np.clip(pred, 0, 1)\n",
    "                targ = np.clip(targ, 0, 1)\n",
    "\n",
    "                ssim_val = ssim(pred, targ, data_range=1.0)\n",
    "                ssim_total += ssim_val\n",
    "                num_frames += 1\n",
    "\n",
    "    average_loss = test_loss / len(test_loader)\n",
    "    average_ssim = ssim_total / num_frames if num_frames > 0 else 0\n",
    "\n",
    "    return average_loss, average_ssim\n"
   ]
  },
  {
   "cell_type": "code",
   "execution_count": null,
   "metadata": {
    "colab": {
     "base_uri": "https://localhost:8080/"
    },
    "id": "LpQtb7QcQgYI",
    "outputId": "04d7c486-7549-4603-bd78-5eb2d7e076ed"
   },
   "outputs": [
    {
     "name": "stderr",
     "output_type": "stream",
     "text": [
      "Testing: 100%|██████████| 62/62 [00:11<00:00,  5.42batch/s]"
     ]
    },
    {
     "name": "stdout",
     "output_type": "stream",
     "text": [
      "Test Loss (MSE): 0.0012\n",
      "Test SSIM: 0.9296\n"
     ]
    },
    {
     "name": "stderr",
     "output_type": "stream",
     "text": [
      "\n"
     ]
    }
   ],
   "source": [
    "test_loss, test_ssim = evaluate_model_with_ssim(\n",
    "    model=model,\n",
    "    test_loader=test_loader,\n",
    "    criterion=criterion,\n",
    "    device=device\n",
    ")\n",
    "\n",
    "print(f\"Test Loss (MSE): {test_loss:.4f}\")\n",
    "print(f\"Test SSIM: {test_ssim:.4f}\")\n"
   ]
  },
  {
   "cell_type": "code",
   "execution_count": null,
   "metadata": {},
   "outputs": [],
   "source": [
    "def evaluate_model_with_ssim(model, test_loader, criterion, device):\n",
    "    \"\"\"\n",
    "    Evaluates the ConvLSTM model on the test set and computes both MSE Loss and SSIM.\n",
    "\n",
    "    Args:\n",
    "        model (nn.Module): Trained ConvLSTM model.\n",
    "        test_loader (DataLoader): DataLoader for the test dataset.\n",
    "        criterion (nn.Module): Loss function (e.g., MSELoss).\n",
    "        device (torch.device): Device to perform computations on.\n",
    "\n",
    "    Returns:\n",
    "        Tuple containing average test loss and average SSIM.\n",
    "    \"\"\"\n",
    "    model.eval()\n",
    "    test_loss = 0.0\n",
    "    ssim_total = 0.0\n",
    "    num_frames = 0\n",
    "\n",
    "    with torch.no_grad():\n",
    "        for input_frames, target_frame in tqdm(\n",
    "            iterable=test_loader,\n",
    "            desc=\"Testing\",\n",
    "            unit=\"batch\"\n",
    "        ):\n",
    "            input_frames = input_frames.permute(0, 2, 1, 3, 4).to(device)  # Adjust if necessary\n",
    "            target_frame = target_frame.to(device)\n",
    "\n",
    "            output = model(input_frames)\n",
    "\n",
    "            loss = criterion(output, target_frame)\n",
    "            test_loss += loss.item()\n",
    "\n",
    "            output_np = output.cpu().numpy()\n",
    "            target_np = target_frame.cpu().numpy()\n",
    "\n",
    "            batch_size = output_np.shape[0]\n",
    "            for i in range(batch_size):\n",
    "                if output_np.shape[1] == 1:\n",
    "                    pred = output_np[i, 0, :, :]\n",
    "                    targ = target_np[i, 0, :, :]\n",
    "                else:\n",
    "                    pred = np.mean(output_np[i], axis=0)\n",
    "                    targ = np.mean(target_np[i], axis=0)\n",
    "\n",
    "                pred = np.clip(pred, 0, 1)\n",
    "                targ = np.clip(targ, 0, 1)\n",
    "\n",
    "                ssim_val = ssim(pred, targ, data_range=1.0)\n",
    "                ssim_total += ssim_val\n",
    "                num_frames += 1\n",
    "\n",
    "    average_loss = test_loss / len(test_loader)\n",
    "    average_ssim = ssim_total / num_frames if num_frames > 0 else 0\n",
    "\n",
    "    return average_loss, average_ssim"
   ]
  },
  {
   "cell_type": "code",
   "execution_count": null,
   "metadata": {
    "colab": {
     "base_uri": "https://localhost:8080/"
    },
    "id": "8E-Xjb9VQmoH",
    "outputId": "9ae64b05-ff1e-4463-acda-6384532dab9b"
   },
   "outputs": [
    {
     "name": "stderr",
     "output_type": "stream",
     "text": [
      "<ipython-input-46-11911c232d01>:117: FutureWarning: You are using `torch.load` with `weights_only=False` (the current default value), which uses the default pickle module implicitly. It is possible to construct malicious pickle data which will execute arbitrary code during unpickling (See https://github.com/pytorch/pytorch/blob/main/SECURITY.md#untrusted-models for more details). In a future release, the default value for `weights_only` will be flipped to `True`. This limits the functions that could be executed during unpickling. Arbitrary objects will no longer be allowed to be loaded via this mode unless they are explicitly allowlisted by the user via `torch.serialization.add_safe_globals`. We recommend you start setting `weights_only=True` for any use case where you don't have full control of the loaded file. Please open an issue on GitHub for any issues related to this experimental feature.\n",
      "  state_dict = torch.load(model_path, map_location=device)\n"
     ]
    },
    {
     "name": "stdout",
     "output_type": "stream",
     "text": [
      "Using device: cuda\n"
     ]
    },
    {
     "name": "stderr",
     "output_type": "stream",
     "text": [
      "Testing: 100%|██████████| 62/62 [00:11<00:00,  5.43batch/s]"
     ]
    },
    {
     "name": "stdout",
     "output_type": "stream",
     "text": [
      "Test Loss (MSE): 0.0012\n",
      "Test SSIM: 0.9296\n"
     ]
    },
    {
     "name": "stderr",
     "output_type": "stream",
     "text": [
      "\n"
     ]
    }
   ],
   "source": [
    "device = torch.device(\"cuda\" if torch.cuda.is_available() else \"cpu\")\n",
    "print(f\"Using device: {device}\")\n",
    "\n",
    "n_channels = 3\n",
    "n_kernels = 64\n",
    "n_layers = 2\n",
    "kernel_size = 3\n",
    "padding = 1\n",
    "activation = \"relu\"\n",
    "frame_size = (64, 64)\n",
    "\n",
    "model = ConvLSTMNet(\n",
    "    n_channels=n_channels,\n",
    "    n_kernels=n_kernels,\n",
    "    n_layers=n_layers,\n",
    "    kernel_size=kernel_size,\n",
    "    padding=padding,\n",
    "    activation=activation,\n",
    "    frame_size=frame_size\n",
    ")\n",
    "\n",
    "model_path = \"Conv_LSTM.pth\"  \n",
    "state_dict = torch.load(model_path, map_location=device)\n",
    "\n",
    "model.load_state_dict(state_dict)\n",
    "\n",
    "model.to(device)\n",
    "\n",
    "model.eval()\n",
    "\n",
    "criterion = nn.MSELoss()\n",
    "\n",
    "test_loss, test_ssim = evaluate_model_with_ssim(\n",
    "    model=model,\n",
    "    test_loader=test_loader,\n",
    "    criterion=criterion,\n",
    "    device=device\n",
    ")\n",
    "\n",
    "print(f\"Test Loss (MSE): {test_loss:.4f}\")\n",
    "print(f\"Test SSIM: {test_ssim:.4f}\")\n"
   ]
  }
 ],
 "metadata": {
  "accelerator": "GPU",
  "colab": {
   "gpuType": "A100",
   "machine_shape": "hm",
   "provenance": []
  },
  "kernelspec": {
   "display_name": "Python 3",
   "name": "python3"
  },
  "language_info": {
   "name": "python"
  }
 },
 "nbformat": 4,
 "nbformat_minor": 0
}
